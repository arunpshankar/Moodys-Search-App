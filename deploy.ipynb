{
 "cells": [
  {
   "cell_type": "markdown",
   "metadata": {},
   "source": [
    "#### Build & deploy Moodys Search Streamlit App to Cloud Run"
   ]
  },
  {
   "cell_type": "markdown",
   "metadata": {},
   "source": [
    "##### Prerequisites"
   ]
  },
  {
   "cell_type": "code",
   "execution_count": null,
   "metadata": {},
   "outputs": [],
   "source": []
  },
  {
   "cell_type": "markdown",
   "metadata": {
    "tags": []
   },
   "source": [
    "##### Imports "
   ]
  },
  {
   "cell_type": "code",
   "execution_count": 1,
   "metadata": {
    "tags": []
   },
   "outputs": [],
   "source": [
    "import logging"
   ]
  },
  {
   "cell_type": "markdown",
   "metadata": {},
   "source": [
    "###### Setup logging"
   ]
  },
  {
   "cell_type": "code",
   "execution_count": 2,
   "metadata": {
    "tags": []
   },
   "outputs": [],
   "source": [
    "logger = logging.getLogger(__name__)\n",
    "logger.setLevel(logging.INFO)\n",
    "logger.addHandler(logging.StreamHandler())"
   ]
  },
  {
   "cell_type": "markdown",
   "metadata": {},
   "source": [
    "##### Setup Essentials"
   ]
  },
  {
   "cell_type": "code",
   "execution_count": 3,
   "metadata": {
    "tags": []
   },
   "outputs": [],
   "source": [
    "PROJECT_ID = 'arun-genai-bb'"
   ]
  },
  {
   "cell_type": "code",
   "execution_count": null,
   "metadata": {},
   "outputs": [],
   "source": []
  },
  {
   "cell_type": "code",
   "execution_count": 4,
   "metadata": {
    "tags": []
   },
   "outputs": [
    {
     "name": "stdout",
     "output_type": "stream",
     "text": [
      "Updated property [core/project].\n"
     ]
    }
   ],
   "source": [
    "!gcloud config set project {PROJECT_ID}"
   ]
  },
  {
   "cell_type": "code",
   "execution_count": null,
   "metadata": {},
   "outputs": [],
   "source": []
  },
  {
   "cell_type": "code",
   "execution_count": null,
   "metadata": {},
   "outputs": [],
   "source": []
  },
  {
   "cell_type": "code",
   "execution_count": null,
   "metadata": {},
   "outputs": [],
   "source": []
  },
  {
   "cell_type": "code",
   "execution_count": null,
   "metadata": {},
   "outputs": [],
   "source": []
  },
  {
   "cell_type": "code",
   "execution_count": null,
   "metadata": {},
   "outputs": [],
   "source": []
  },
  {
   "cell_type": "code",
   "execution_count": 5,
   "metadata": {
    "tags": []
   },
   "outputs": [],
   "source": [
    "image_name = 'moodys-cloud-run'"
   ]
  },
  {
   "cell_type": "code",
   "execution_count": 6,
   "metadata": {
    "tags": []
   },
   "outputs": [
    {
     "name": "stdout",
     "output_type": "stream",
     "text": [
      "Sending build context to Docker daemon  89.66MB\n",
      "Step 1/7 : FROM python:3.11-alpine\n",
      " ---> 24639ea2d0cf\n",
      "Step 2/7 : WORKDIR /app\n",
      " ---> Using cache\n",
      " ---> ff09a6fa569f\n",
      "Step 3/7 : COPY requirements.txt .\n",
      " ---> Using cache\n",
      " ---> eec0ec24b8aa\n",
      "Step 4/7 : RUN pip install --upgrade pip\n",
      " ---> Using cache\n",
      " ---> fae751b8e4bc\n",
      "Step 5/7 : RUN pip install --trusted-host pypi.python.org -r requirements.txt\n",
      " ---> Using cache\n",
      " ---> a5f557d8252d\n",
      "Step 6/7 : COPY . .\n",
      " ---> 40f74026068d\n",
      "Step 7/7 : CMD streamlit run --server.port=8080 /app/src/app/app.py\n",
      " ---> Running in cd5561fc1cc5\n",
      "Removing intermediate container cd5561fc1cc5\n",
      " ---> dadf31595e0d\n",
      "Successfully built dadf31595e0d\n",
      "Successfully tagged gcr.io/arun-genai-bb/moodys-cloud-run:latest\n"
     ]
    }
   ],
   "source": [
    "!docker build -t gcr.io/{PROJECT_ID}/{image_name} ."
   ]
  },
  {
   "cell_type": "code",
   "execution_count": 7,
   "metadata": {
    "tags": []
   },
   "outputs": [
    {
     "name": "stdout",
     "output_type": "stream",
     "text": [
      "REPOSITORY                              TAG           IMAGE ID       CREATED                  SIZE\n",
      "gcr.io/arun-genai-bb/moodys-cloud-run   latest        dadf31595e0d   Less than a second ago   153MB\n",
      "gcr.io/arun-genai-bb/moodys-cloud-run   <none>        5adf64ae87fd   10 minutes ago           153MB\n",
      "<none>                                  <none>        3d7d1f3e7116   11 minutes ago           153MB\n",
      "python                                  3.11-alpine   24639ea2d0cf   5 weeks ago              52.7MB\n"
     ]
    }
   ],
   "source": [
    "!docker images"
   ]
  },
  {
   "cell_type": "code",
   "execution_count": 8,
   "metadata": {
    "tags": []
   },
   "outputs": [
    {
     "name": "stdout",
     "output_type": "stream",
     "text": [
      "\u001b[1;33mWARNING:\u001b[0m Your config file at [/home/jupyter/.docker/config.json] contains these credential helper entries:\n",
      "\n",
      "{\n",
      "  \"credHelpers\": {\n",
      "    \"gcr.io\": \"gcloud\",\n",
      "    \"us.gcr.io\": \"gcloud\",\n",
      "    \"eu.gcr.io\": \"gcloud\",\n",
      "    \"asia.gcr.io\": \"gcloud\",\n",
      "    \"staging-k8s.gcr.io\": \"gcloud\",\n",
      "    \"marketplace.gcr.io\": \"gcloud\"\n",
      "  }\n",
      "}\n",
      "Adding credentials for all GCR repositories.\n",
      "\u001b[1;33mWARNING:\u001b[0m A long list of credential helpers may cause delays running 'docker build'. We recommend passing the registry name to configure only the registry you are using.\n",
      "gcloud credential helpers already registered correctly.\n"
     ]
    }
   ],
   "source": [
    "!gcloud auth configure-docker"
   ]
  },
  {
   "cell_type": "code",
   "execution_count": 9,
   "metadata": {
    "tags": []
   },
   "outputs": [
    {
     "name": "stdout",
     "output_type": "stream",
     "text": [
      "Using default tag: latest\n",
      "The push refers to repository [gcr.io/arun-genai-bb/moodys-cloud-run]\n",
      "\n",
      "\u001b[1B4474c73a: Preparing \n",
      "\u001b[1B6b3fc086: Preparing \n",
      "\u001b[1Be6a01d95: Preparing \n",
      "\u001b[1B49a3109a: Preparing \n",
      "\u001b[1Bc9011fae: Preparing \n",
      "\u001b[1B51bc9d4c: Preparing \n",
      "\u001b[1B77c75d3e: Preparing \n",
      "\u001b[1B8e8015a6: Preparing \n",
      "\u001b[1B2b9681ab: Preparing \n",
      "\u001b[10B474c73a: Pushed   89.66MB/89.53MB\u001b[5A\u001b[2K\u001b[1A\u001b[2K\u001b[10A\u001b[2K\u001b[10A\u001b[2K\u001b[10A\u001b[2K\u001b[10A\u001b[2K\u001b[10A\u001b[2K\u001b[10A\u001b[2K\u001b[10A\u001b[2K\u001b[10A\u001b[2K\u001b[10A\u001b[2K\u001b[10A\u001b[2K\u001b[10A\u001b[2K\u001b[10A\u001b[2K\u001b[10A\u001b[2K\u001b[10A\u001b[2K\u001b[10A\u001b[2K\u001b[10A\u001b[2K\u001b[10A\u001b[2K\u001b[10A\u001b[2K\u001b[10A\u001b[2K\u001b[10A\u001b[2K\u001b[10A\u001b[2K\u001b[10A\u001b[2K\u001b[10A\u001b[2K\u001b[10A\u001b[2K\u001b[10A\u001b[2K\u001b[10A\u001b[2K\u001b[10A\u001b[2K\u001b[10A\u001b[2K\u001b[10A\u001b[2K\u001b[10A\u001b[2K\u001b[10A\u001b[2K\u001b[10A\u001b[2K\u001b[10A\u001b[2Klatest: digest: sha256:e0f0506e3e4fbe369e4dceeff90ddf171b954590b9364f5d26c29358607edd17 size: 2411\n"
     ]
    }
   ],
   "source": [
    "!docker push gcr.io/{PROJECT_ID}/{image_name}"
   ]
  },
  {
   "cell_type": "code",
   "execution_count": 10,
   "metadata": {
    "tags": []
   },
   "outputs": [],
   "source": [
    "SERVICE_NAME = 'moodys-app'\n",
    "REGION = 'us-central1'"
   ]
  },
  {
   "cell_type": "code",
   "execution_count": 11,
   "metadata": {
    "tags": []
   },
   "outputs": [
    {
     "name": "stdout",
     "output_type": "stream",
     "text": [
      "Deploying container to Cloud Run service [\u001b[1mmoodys-app\u001b[m] in project [\u001b[1marun-genai-bb\u001b[m] region [\u001b[1mus-central1\u001b[m]\n",
      "Deploying...                                                                   \n",
      "  . Creating Revision...                                                       \n",
      "  . Routing traffic...                                                         \n",
      "  Deploying...                                                                 \n",
      "\n",
      "\n",
      "⠛ Deploying...                                                                 \n",
      "\n",
      "\n",
      "⠹ Deploying...                                                                 \n",
      "  ⠹ Creating Revision...                                                       \n",
      "\n",
      "⠼ Deploying...                                                                 \n",
      "  ⠼ Creating Revision...                                                       \n",
      "\n",
      "⠶ Deploying...                                                                 \n",
      "  ⠶ Creating Revision...                                                       \n",
      "\n",
      "⠧ Deploying...                                                                 \n",
      "  ⠧ Creating Revision...                                                       \n",
      "\n",
      "⠏ Deploying...                                                                 \n",
      "  ⠏ Creating Revision...                                                       \n",
      "\n",
      "⠛ Deploying...                                                                 \n",
      "  ⠛ Creating Revision...                                                       \n",
      "\n",
      "⠹ Deploying...                                                                 \n",
      "  ⠹ Creating Revision...                                                       \n",
      "\n",
      "⠼ Deploying...                                                                 \n",
      "  ⠼ Creating Revision...                                                       \n",
      "\n",
      "⠶ Deploying...                                                                 \n",
      "  ⠶ Creating Revision...                                                       \n",
      "\n",
      "⠧ Deploying...                                                                 \n",
      "  ⠧ Creating Revision...                                                       \n",
      "\n",
      "⠏ Deploying...                                                                 \n",
      "  ⠏ Creating Revision...                                                       \n",
      "\n",
      "⠛ Deploying...                                                                 \n",
      "  ⠛ Creating Revision...                                                       \n",
      "\n",
      "⠹ Deploying...                                                                 \n",
      "  ⠹ Creating Revision...                                                       \n",
      "\n",
      "⠼ Deploying...                                                                 \n",
      "  ⠼ Creating Revision...                                                       \n",
      "\n",
      "⠶ Deploying...                                                                 \n",
      "  ⠶ Creating Revision...                                                       \n",
      "\n",
      "⠧ Deploying...                                                                 \n",
      "  ⠧ Creating Revision...                                                       \n",
      "\n",
      "⠏ Deploying...                                                                 \n",
      "  ⠏ Creating Revision...                                                       \n",
      "\n",
      "⠛ Deploying...                                                                 \n",
      "  ⠛ Creating Revision...                                                       \n",
      "\n",
      "⠹ Deploying...                                                                 \n",
      "  ⠹ Creating Revision...                                                       \n",
      "\n",
      "⠼ Deploying...                                                                 \n",
      "  ⠼ Creating Revision...                                                       \n",
      "\n",
      "⠶ Deploying...                                                                 \n",
      "  ⠶ Creating Revision...                                                       \n",
      "\n",
      "⠧ Deploying...                                                                 \n",
      "  ⠧ Creating Revision...                                                       \n",
      "\n",
      "⠏ Deploying...                                                                 \n",
      "  ⠏ Creating Revision...                                                       \n",
      "\n",
      "⠛ Deploying...                                                                 \n",
      "  ⠛ Creating Revision...                                                       \n",
      "\n",
      "⠹ Deploying...                                                                 \n",
      "  ⠹ Creating Revision...                                                       \n",
      "\n",
      "⠼ Deploying...                                                                 \n",
      "  ⠼ Creating Revision...                                                       \n",
      "\n",
      "⠶ Deploying...                                                                 \n",
      "  ⠶ Creating Revision...                                                       \n",
      "\n",
      "⠧ Deploying...                                                                 \n",
      "  ⠧ Creating Revision...                                                       \n",
      "\n",
      "⠏ Deploying...                                                                 \n",
      "  ⠏ Creating Revision...                                                       \n",
      "\n",
      "⠛ Deploying...                                                                 \n",
      "  ⠛ Creating Revision...                                                       \n",
      "\n",
      "⠹ Deploying...                                                                 \n",
      "  ⠹ Creating Revision...                                                       \n",
      "\n",
      "⠼ Deploying...                                                                 \n",
      "  ⠼ Creating Revision...                                                       \n",
      "\n",
      "⠶ Deploying...                                                                 \n",
      "  ⠶ Creating Revision...                                                       \n",
      "\n",
      "⠧ Deploying...                                                                 \n",
      "  ⠧ Creating Revision...                                                       \n",
      "\n",
      "⠏ Deploying...                                                                 \n",
      "  ⠏ Creating Revision...                                                       \n",
      "\n",
      "⠛ Deploying...                                                                 \n",
      "  ⠛ Creating Revision...                                                       \n",
      "\n",
      "⠹ Deploying...                                                                 \n",
      "  ⠹ Creating Revision...                                                       \n",
      "\n",
      "⠼ Deploying...                                                                 \n",
      "  ⠼ Creating Revision...                                                       \n",
      "\n",
      "⠶ Deploying...                                                                 \n",
      "  ⠶ Creating Revision...                                                       \n",
      "\n",
      "⠧ Deploying...                                                                 \n",
      "  ⠧ Creating Revision...                                                       \n",
      "\n",
      "⠏ Deploying...                                                                 \n",
      "  ⠏ Creating Revision...                                                       \n",
      "\n",
      "⠛ Deploying...                                                                 \n",
      "  ⠛ Creating Revision...                                                       \n",
      "\n",
      "⠹ Deploying...                                                                 \n",
      "  ⠹ Creating Revision...                                                       \n",
      "\n",
      "⠼ Deploying...                                                                 \n",
      "  ⠼ Creating Revision...                                                       \n",
      "\n",
      "⠶ Deploying...                                                                 \n",
      "  ⠶ Creating Revision...                                                       \n",
      "\n",
      "⠧ Deploying...                                                                 \n",
      "  ⠧ Creating Revision...                                                       \n",
      "\n",
      "⠏ Deploying...                                                                 \n",
      "  ⠏ Creating Revision...                                                       \n",
      "\n",
      "⠛ Deploying...                                                                 \n",
      "  ⠛ Creating Revision...                                                       \n",
      "\n",
      "⠹ Deploying...                                                                 \n",
      "  ⠹ Creating Revision...                                                       \n",
      "\n",
      "⠼ Deploying...                                                                 \n",
      "  ⠼ Creating Revision...                                                       \n",
      "\n",
      "⠶ Deploying...                                                                 \n",
      "  ⠶ Creating Revision...                                                       \n",
      "\n",
      "⠧ Deploying...                                                                 \n",
      "  ⠧ Creating Revision...                                                       \n",
      "\n",
      "⠏ Deploying...                                                                 \n",
      "  ⠏ Creating Revision...                                                       \n",
      "\n",
      "⠛ Deploying...                                                                 \n",
      "  ⠛ Creating Revision...                                                       \n",
      "\n",
      "⠹ Deploying...                                                                 \n",
      "  ⠹ Creating Revision...                                                       \n",
      "\n",
      "⠼ Deploying...                                                                 \n",
      "  ⠼ Creating Revision...                                                       \n",
      "\n",
      "⠶ Deploying...                                                                 \n",
      "  ⠶ Creating Revision...                                                       \n",
      "\n",
      "⠧ Deploying...                                                                 \n",
      "  ⠧ Creating Revision...                                                       \n",
      "\n",
      "⠏ Deploying...                                                                 \n",
      "  ⠏ Creating Revision...                                                       \n",
      "\n",
      "⠛ Deploying...                                                                 \n",
      "  ⠛ Creating Revision...                                                       \n",
      "\n",
      "⠹ Deploying...                                                                 \n",
      "  ⠹ Creating Revision...                                                       \n",
      "\n",
      "⠼ Deploying...                                                                 \n",
      "  ⠼ Creating Revision...                                                       \n",
      "\n",
      "⠶ Deploying...                                                                 \n",
      "  ⠶ Creating Revision...                                                       \n",
      "\n",
      "⠧ Deploying...                                                                 \n",
      "  ⠧ Creating Revision...                                                       \n",
      "\n",
      "⠏ Deploying...                                                                 \n",
      "  ⠏ Creating Revision...                                                       \n",
      "\n",
      "⠛ Deploying...                                                                 \n",
      "  ⠛ Creating Revision...                                                       \n",
      "\n",
      "⠹ Deploying...                                                                 \n",
      "  ⠹ Creating Revision...                                                       \n",
      "\n",
      "⠼ Deploying...                                                                 \n",
      "  ⠼ Creating Revision...                                                       \n",
      "\n",
      "⠶ Deploying...                                                                 \n",
      "  ⠶ Creating Revision...                                                       \n",
      "\n",
      "⠧ Deploying...                                                                 \n",
      "  ⠧ Creating Revision...                                                       \n",
      "\n",
      "⠏ Deploying...                                                                 \n",
      "  ⠏ Creating Revision...                                                       \n",
      "\n",
      "⠛ Deploying...                                                                 \n",
      "  ⠛ Creating Revision...                                                       \n",
      "\n",
      "⠹ Deploying...                                                                 \n",
      "  ⠹ Creating Revision...                                                       \n",
      "\n",
      "⠼ Deploying...                                                                 \n",
      "  ⠼ Creating Revision...                                                       \n",
      "\n",
      "⠶ Deploying...                                                                 \n",
      "  ⠶ Creating Revision...                                                       \n",
      "\n",
      "⠧ Deploying...                                                                 \n",
      "  ⠧ Creating Revision...                                                       \n",
      "\n",
      "⠏ Deploying...                                                                 \n",
      "  ⠏ Creating Revision...                                                       \n",
      "\n",
      "⠛ Deploying...                                                                 \n",
      "  ⠛ Creating Revision...                                                       \n",
      "\n",
      "⠹ Deploying...                                                                 \n",
      "  ⠹ Creating Revision...                                                       \n",
      "\n",
      "⠼ Deploying...                                                                 \n",
      "  ⠼ Creating Revision...                                                       \n",
      "\n",
      "⠶ Deploying...                                                                 \n",
      "  ⠶ Creating Revision...                                                       \n",
      "\n",
      "⠧ Deploying...                                                                 \n",
      "  ⠧ Creating Revision...                                                       \n",
      "\n",
      "⠏ Deploying...                                                                 \n",
      "  ⠏ Creating Revision...                                                       \n",
      "\n",
      "⠛ Deploying...                                                                 \n",
      "  ⠛ Creating Revision...                                                       \n",
      "\n",
      "⠹ Deploying...                                                                 \n",
      "  ⠹ Creating Revision...                                                       \n",
      "\n",
      "⠼ Deploying...                                                                 \n",
      "  ⠼ Creating Revision...                                                       \n",
      "\n",
      "⠶ Deploying...                                                                 \n",
      "  ⠶ Creating Revision...                                                       \n",
      "\n",
      "⠧ Deploying...                                                                 \n",
      "  ⠧ Creating Revision...                                                       \n",
      "\n",
      "⠏ Deploying...                                                                 \n",
      "  ⠏ Creating Revision...                                                       \n",
      "\n",
      "⠛ Deploying...                                                                 \n",
      "  ⠛ Creating Revision...                                                       \n",
      "\n",
      "⠹ Deploying...                                                                 \n",
      "  ⠹ Creating Revision...                                                       \n",
      "\n",
      "⠼ Deploying...                                                                 \n",
      "  ⠼ Creating Revision...                                                       \n",
      "\n",
      "⠶ Deploying...                                                                 \n",
      "  ⠶ Creating Revision...                                                       \n",
      "\n",
      "⠧ Deploying...                                                                 \n",
      "  ⠧ Creating Revision...                                                       \n",
      "\n",
      "⠏ Deploying...                                                                 \n",
      "  ⠏ Creating Revision...                                                       \n",
      "\n",
      "⠛ Deploying...                                                                 \n",
      "  ⠛ Creating Revision...                                                       \n",
      "\n",
      "⠹ Deploying...                                                                 \n",
      "  ⠹ Creating Revision...                                                       \n",
      "\n",
      "⠼ Deploying...                                                                 \n",
      "  ⠼ Creating Revision...                                                       \n",
      "\n",
      "⠶ Deploying...                                                                 \n",
      "  ⠶ Creating Revision...                                                       \n",
      "\n",
      "⠧ Deploying...                                                                 \n",
      "  ⠧ Creating Revision...                                                       \n",
      "\n",
      "⠏ Deploying...                                                                 \n",
      "  ⠏ Creating Revision...                                                       \n",
      "\n",
      "⠛ Deploying...                                                                 \n",
      "  ⠛ Creating Revision...                                                       \n",
      "\n",
      "⠹ Deploying...                                                                 \n",
      "  ⠹ Creating Revision...                                                       \n",
      "\n",
      "⠼ Deploying...                                                                 \n",
      "  ⠼ Creating Revision...                                                       \n",
      "\n",
      "⠶ Deploying...                                                                 \n",
      "  ⠶ Creating Revision...                                                       \n",
      "\n",
      "⠧ Deploying...                                                                 \n",
      "  ⠧ Creating Revision...                                                       \n",
      "\n",
      "⠏ Deploying...                                                                 \n",
      "  ⠏ Creating Revision...                                                       \n",
      "\n",
      "⠛ Deploying...                                                                 \n",
      "  ⠛ Creating Revision...                                                       \n",
      "\n",
      "⠹ Deploying...                                                                 \n",
      "  ⠹ Creating Revision...                                                       \n",
      "\n",
      "⠼ Deploying...                                                                 \n",
      "  ⠼ Creating Revision...                                                       \n",
      "\n",
      "⠶ Deploying...                                                                 \n",
      "  ⠶ Creating Revision...                                                       \n",
      "\n",
      "⠧ Deploying...                                                                 \n",
      "  ⠧ Creating Revision...                                                       \n",
      "\n",
      "⠏ Deploying...                                                                 \n",
      "  ⠏ Creating Revision...                                                       \n",
      "\n",
      "⠛ Deploying...                                                                 \n",
      "  ⠛ Creating Revision...                                                       \n",
      "\n",
      "⠹ Deploying...                                                                 \n",
      "  ⠹ Creating Revision...                                                       \n",
      "\n",
      "⠼ Deploying...                                                                 \n",
      "  ⠼ Creating Revision...                                                       \n",
      "\n",
      "⠶ Deploying...                                                                 \n",
      "  ⠶ Creating Revision...                                                       \n",
      "\n",
      "⠧ Deploying...                                                                 \n",
      "  ⠧ Creating Revision...                                                       \n",
      "\n",
      "⠏ Deploying...                                                                 \n",
      "  ⠏ Creating Revision...                                                       \n",
      "\n",
      "⠛ Deploying...                                                                 \n",
      "  ⠛ Creating Revision...                                                       \n",
      "\n",
      "⠹ Deploying...                                                                 \n",
      "  ⠹ Creating Revision...                                                       \n",
      "\n",
      "⠼ Deploying...                                                                 \n",
      "  ⠼ Creating Revision...                                                       \n",
      "\n",
      "⠶ Deploying...                                                                 \n",
      "  ⠶ Creating Revision...                                                       \n",
      "\n",
      "⠧ Deploying...                                                                 \n",
      "  ⠧ Creating Revision...                                                       \n",
      "\n",
      "⠏ Deploying...                                                                 \n",
      "  ⠏ Creating Revision...                                                       \n",
      "\n",
      "⠛ Deploying...                                                                 \n",
      "  ⠛ Creating Revision...                                                       \n",
      "\n",
      "⠹ Deploying...                                                                 \n",
      "  ⠹ Creating Revision...                                                       \n",
      "\n",
      "⠼ Deploying...                                                                 \n",
      "  ⠼ Creating Revision...                                                       \n",
      "\n",
      "⠶ Deploying...                                                                 \n",
      "  ⠶ Creating Revision...                                                       \n",
      "\n",
      "⠧ Deploying...                                                                 \n",
      "  ⠧ Creating Revision...                                                       \n",
      "\n",
      "⠏ Deploying...                                                                 \n",
      "  ⠏ Creating Revision...                                                       \n",
      "\n",
      "⠛ Deploying...                                                                 \n",
      "  ⠛ Creating Revision...                                                       \n",
      "\n",
      "X Deploying...                                                                 \n",
      "  - Creating Revision...                                                       \n",
      "\n",
      "Deployment failed                                                              \n",
      "\u001b[1;31mERROR:\u001b[0m (gcloud.run.deploy) Revision 'moodys-app-00002-ktx' is not ready and cannot serve traffic. The user-provided container failed to start and listen on the port defined provided by the PORT=8080 environment variable. Logs for this revision might contain more information.\n",
      "\n",
      "Logs URL: https://console.cloud.google.com/logs/viewer?project=arun-genai-bb&resource=cloud_run_revision/service_name/moodys-app/revision_name/moodys-app-00002-ktx&advancedFilter=resource.type%3D%22cloud_run_revision%22%0Aresource.labels.service_name%3D%22moodys-app%22%0Aresource.labels.revision_name%3D%22moodys-app-00002-ktx%22 \n",
      "For more troubleshooting guidance, see https://cloud.google.com/run/docs/troubleshooting#container-failed-to-start\n"
     ]
    }
   ],
   "source": [
    "!gcloud run deploy {SERVICE_NAME} --image gcr.io/{PROJECT_ID}/{image_name} --platform managed --region {REGION}"
   ]
  },
  {
   "cell_type": "code",
   "execution_count": null,
   "metadata": {},
   "outputs": [],
   "source": []
  },
  {
   "cell_type": "code",
   "execution_count": null,
   "metadata": {},
   "outputs": [],
   "source": []
  },
  {
   "cell_type": "code",
   "execution_count": null,
   "metadata": {},
   "outputs": [],
   "source": []
  },
  {
   "cell_type": "code",
   "execution_count": null,
   "metadata": {},
   "outputs": [],
   "source": []
  }
 ],
 "metadata": {
  "environment": {
   "kernel": "python3",
   "name": "common-cpu.m118",
   "type": "gcloud",
   "uri": "us-docker.pkg.dev/deeplearning-platform-release/gcr.io/base-cpu:m118"
  },
  "kernelspec": {
   "display_name": "Python 3",
   "language": "python",
   "name": "python3"
  },
  "language_info": {
   "codemirror_mode": {
    "name": "ipython",
    "version": 3
   },
   "file_extension": ".py",
   "mimetype": "text/x-python",
   "name": "python",
   "nbconvert_exporter": "python",
   "pygments_lexer": "ipython3",
   "version": "3.10.13"
  }
 },
 "nbformat": 4,
 "nbformat_minor": 4
}
